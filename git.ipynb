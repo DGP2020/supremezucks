{
  "nbformat": 4,
  "nbformat_minor": 0,
  "metadata": {
    "colab": {
      "name": "git.ipynb",
      "provenance": [],
      "authorship_tag": "ABX9TyNlx8490gKU9+MxIwCGUo2Q",
      "include_colab_link": true
    },
    "kernelspec": {
      "name": "python3",
      "display_name": "Python 3"
    }
  },
  "cells": [
    {
      "cell_type": "markdown",
      "metadata": {
        "id": "view-in-github",
        "colab_type": "text"
      },
      "source": [
        "<a href=\"https://colab.research.google.com/github/DGP2020/supremezucks/blob/main/git.ipynb\" target=\"_parent\"><img src=\"https://colab.research.google.com/assets/colab-badge.svg\" alt=\"Open In Colab\"/></a>"
      ]
    },
    {
      "cell_type": "code",
      "metadata": {
        "colab": {
          "base_uri": "https://localhost:8080/"
        },
        "id": "6SRekd5q4Wzs",
        "outputId": "e6260bc3-d1dc-49b3-b1d1-8540606c6d7e"
      },
      "source": [
        "a=21\r\n",
        "b=12\r\n",
        "print(a+b)"
      ],
      "execution_count": 2,
      "outputs": [
        {
          "output_type": "stream",
          "text": [
            "33\n"
          ],
          "name": "stdout"
        }
      ]
    },
    {
      "cell_type": "code",
      "metadata": {
        "colab": {
          "base_uri": "https://localhost:8080/"
        },
        "id": "FBhpKuS-4o0Z",
        "outputId": "71ae667c-2ef3-492d-8fd1-7fdc3d3341e2"
      },
      "source": [
        "a=453\r\n",
        "b=213\r\n",
        "print(a-b)"
      ],
      "execution_count": 3,
      "outputs": [
        {
          "output_type": "stream",
          "text": [
            "240\n"
          ],
          "name": "stdout"
        }
      ]
    },
    {
      "cell_type": "code",
      "metadata": {
        "colab": {
          "base_uri": "https://localhost:8080/"
        },
        "id": "xCmxjehX4w3C",
        "outputId": "8e15b7c9-6fa9-4e13-ddb8-ef7ecf06e636"
      },
      "source": [
        "bh=2654\r\n",
        "fh=331\r\n",
        "print(bh*fh)"
      ],
      "execution_count": 4,
      "outputs": [
        {
          "output_type": "stream",
          "text": [
            "878474\n"
          ],
          "name": "stdout"
        }
      ]
    },
    {
      "cell_type": "code",
      "metadata": {
        "colab": {
          "base_uri": "https://localhost:8080/"
        },
        "id": "ZuKTXCYo48q-",
        "outputId": "13eaa0e9-fd1a-4fd7-8988-98818bf3b248"
      },
      "source": [
        "r=7000\r\n",
        "d=21\r\n",
        "print(r/d)"
      ],
      "execution_count": 5,
      "outputs": [
        {
          "output_type": "stream",
          "text": [
            "333.3333333333333\n"
          ],
          "name": "stdout"
        }
      ]
    }
  ]
}