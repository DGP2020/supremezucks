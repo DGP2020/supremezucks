{
  "nbformat": 4,
  "nbformat_minor": 0,
  "metadata": {
    "colab": {
      "name": "school3.ipynb",
      "provenance": [],
      "collapsed_sections": [],
      "authorship_tag": "ABX9TyOUyd39a3m8n9MJG7kKjZyy",
      "include_colab_link": true
    },
    "kernelspec": {
      "name": "python3",
      "display_name": "Python 3"
    }
  },
  "cells": [
    {
      "cell_type": "markdown",
      "metadata": {
        "id": "view-in-github",
        "colab_type": "text"
      },
      "source": [
        "<a href=\"https://colab.research.google.com/github/DGP2020/supremezucks/blob/main/school3.ipynb\" target=\"_parent\"><img src=\"https://colab.research.google.com/assets/colab-badge.svg\" alt=\"Open In Colab\"/></a>"
      ]
    },
    {
      "cell_type": "code",
      "metadata": {
        "colab": {
          "base_uri": "https://localhost:8080/"
        },
        "id": "Cv6X71OJ-KTO",
        "outputId": "68125f7b-36a9-4ca1-8b3f-d81fdcc5fa1a"
      },
      "source": [
        "print(\"This is a sentence\")"
      ],
      "execution_count": 1,
      "outputs": [
        {
          "output_type": "stream",
          "text": [
            "This is a sentence\n"
          ],
          "name": "stdout"
        }
      ]
    },
    {
      "cell_type": "code",
      "metadata": {
        "colab": {
          "base_uri": "https://localhost:8080/"
        },
        "id": "rxEqi_8NAQzA",
        "outputId": "aab33b8e-a2e5-4581-c9e6-70ba6ce2dcc6"
      },
      "source": [
        "Serf=str(input(\"Enter your name:\"))\r\n",
        "print(\"you are a serf\\n\"*20)"
      ],
      "execution_count": 8,
      "outputs": [
        {
          "output_type": "stream",
          "text": [
            "Enter your name:kukku\n",
            "you are a serf\n",
            "you are a serf\n",
            "you are a serf\n",
            "you are a serf\n",
            "you are a serf\n",
            "you are a serf\n",
            "you are a serf\n",
            "you are a serf\n",
            "you are a serf\n",
            "you are a serf\n",
            "you are a serf\n",
            "you are a serf\n",
            "you are a serf\n",
            "you are a serf\n",
            "you are a serf\n",
            "you are a serf\n",
            "you are a serf\n",
            "you are a serf\n",
            "you are a serf\n",
            "you are a serf\n",
            "\n"
          ],
          "name": "stdout"
        }
      ]
    },
    {
      "cell_type": "code",
      "metadata": {
        "id": "k6NzK6cUB9zS"
      },
      "source": [
        "display grade <90 a\r\n",
        "<80b\r\n",
        "<70c"
      ],
      "execution_count": null,
      "outputs": []
    },
    {
      "cell_type": "code",
      "metadata": {
        "colab": {
          "base_uri": "https://localhost:8080/"
        },
        "id": "kPDbhEipCOSp",
        "outputId": "bb01e778-2da8-476b-f7af-0c947c30971b"
      },
      "source": [
        "m=float(input(\"Enter your marks:\"))\r\n",
        "if m>=90:\r\n",
        "  print(\"Your grade is A\")\r\n",
        "elif m>=80:\r\n",
        "  print(\"Your grade is B\")\r\n",
        "elif m>=70:\r\n",
        "  print(\"Your grade is C\")\r\n",
        "elif m<70:\r\n",
        "  print(\"Fail\")\r\n"
      ],
      "execution_count": 27,
      "outputs": [
        {
          "output_type": "stream",
          "text": [
            "Enter your marks:3.5\n",
            "Fail\n"
          ],
          "name": "stdout"
        }
      ]
    }
  ]
}